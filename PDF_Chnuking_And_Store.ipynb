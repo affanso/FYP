{
 "cells": [
  {
   "cell_type": "code",
   "execution_count": 1,
   "id": "9b22c4dc",
   "metadata": {},
   "outputs": [],
   "source": [
    "from langchain.document_loaders import PyPDFLoader\n",
    "from langchain.text_splitter import RecursiveCharacterTextSplitter"
   ]
  },
  {
   "cell_type": "code",
   "execution_count": 2,
   "id": "d54e3c79",
   "metadata": {},
   "outputs": [],
   "source": [
    "pdf_files = [\n",
    "    \"PDF_resources/cbt-strategies-guide.pdf\"\n",
    "]"
   ]
  },
  {
   "cell_type": "code",
   "execution_count": 3,
   "id": "477bed4c",
   "metadata": {},
   "outputs": [],
   "source": [
    "docs = []\n",
    "for path in pdf_files:\n",
    "    loader = PyPDFLoader(path)\n",
    "    docs.extend(loader.load())"
   ]
  },
  {
   "cell_type": "code",
   "execution_count": 4,
   "id": "6d9f1b2e",
   "metadata": {},
   "outputs": [
    {
     "name": "stdout",
     "output_type": "stream",
     "text": [
      "Total chunks: 184\n"
     ]
    }
   ],
   "source": [
    "# Split into chunks of ~1000 characters with 200 overlap\n",
    "splitter = RecursiveCharacterTextSplitter(\n",
    "    chunk_size=1000,\n",
    "    chunk_overlap=200,\n",
    "    length_function=len\n",
    ")\n",
    "chunked_docs = splitter.split_documents(docs)\n",
    "print(f\"Total chunks: {len(chunked_docs)}\")"
   ]
  },
  {
   "cell_type": "code",
   "execution_count": 5,
   "id": "df7c2907",
   "metadata": {},
   "outputs": [],
   "source": [
    "import os\n",
    "from dotenv import load_dotenv\n",
    "from langchain_huggingface import HuggingFaceEmbeddings\n",
    "load_dotenv()\n",
    "\n",
    "os.environ[\"HF_TOKEN\"]=os.getenv(\"HF_TOKEN\")"
   ]
  },
  {
   "cell_type": "code",
   "execution_count": 6,
   "id": "aa165f03",
   "metadata": {},
   "outputs": [
    {
     "name": "stderr",
     "output_type": "stream",
     "text": [
      "c:\\Users\\USER\\Desktop\\BOT\\venv\\Lib\\site-packages\\tqdm\\auto.py:21: TqdmWarning: IProgress not found. Please update jupyter and ipywidgets. See https://ipywidgets.readthedocs.io/en/stable/user_install.html\n",
      "  from .autonotebook import tqdm as notebook_tqdm\n"
     ]
    }
   ],
   "source": [
    "embedding_model = HuggingFaceEmbeddings(model=\"all-MiniLM-L6-v2\")"
   ]
  },
  {
   "cell_type": "code",
   "execution_count": 7,
   "id": "526de932",
   "metadata": {},
   "outputs": [],
   "source": [
    "from langchain_chroma import Chroma\n",
    "\n",
    "#Store all the embeddings\n",
    "vectordb = Chroma.from_documents(documents=chunked_docs,embedding=embedding_model,persist_directory=\"chroma_db\")"
   ]
  },
  {
   "cell_type": "code",
   "execution_count": 8,
   "id": "688a5ad4",
   "metadata": {},
   "outputs": [
    {
     "data": {
      "text/plain": [
       "[Document(id='c857bdb7-7a89-4e9b-9dd3-310a8e2f0619', metadata={'keywords': 'South Central Mental Illness Research Education and Clinical Center', 'title': 'Cognitive Behavioral Therapy Strategies', 'author': 'South Central Mental Illness Research Education and Clinical Center', 'page': 11, 'creator': 'Adobe InDesign 14.0 (Macintosh)', 'source': 'PDF_resources/cbt-strategies-guide.pdf', 'trapped': '/False', 'page_label': '12', 'nccl_app': 'PDF', 'producer': 'Adobe PDF Library 15.0', 'total_pages': 103, 'subject': 'Cognitive Behavioral Therapy Strategies', 'creationdate': '2019-09-26T14:54:21-05:00', 'moddate': '2022-11-22T15:09:46-06:00', 'nccl_status': 'Passed', 'nccl_standard': 'HHS (2018 Regulations);'}, page_content='STEPS OF CBT\\n \\nCognitive Behavioral Therapy helps people become more aware of the relationship between \\ntheir thoughts, feelings, and emotions. \\nStep 2 \\nStep 3 \\nStep 1 \\nBecome aware of: \\nAutomatic thoughts \\nFeelings \\nCore beliefs \\nBehaviors \\nPhysical reactions \\nEnvironment \\nExamination: \\nThoughts are not facts \\nExamine the evidence, look for proof \\nQuestion and challenge irrational beliefs \\nDon’t believe everything you think \\nCreate alternative thoughts: \\nIncrease positive self talk \\nReduce negative automatic thoughts \\nReplace irrational beliefs with more rational ones \\n12'),\n",
       " Document(id='3c6a652d-fb05-4138-b27d-4a75f8187955', metadata={'creator': 'Adobe InDesign 14.0 (Macintosh)', 'source': 'PDF_resources/cbt-strategies-guide.pdf', 'nccl_standard': 'HHS (2018 Regulations);', 'page': 6, 'keywords': 'South Central Mental Illness Research Education and Clinical Center', 'author': 'South Central Mental Illness Research Education and Clinical Center', 'producer': 'Adobe PDF Library 15.0', 'subject': 'Cognitive Behavioral Therapy Strategies', 'title': 'Cognitive Behavioral Therapy Strategies', 'page_label': '7', 'total_pages': 103, 'trapped': '/False', 'creationdate': '2019-09-26T14:54:21-05:00', 'nccl_app': 'PDF', 'nccl_status': 'Passed', 'moddate': '2022-11-22T15:09:46-06:00'}, page_content='WHAT TO EXPECT?\\n \\n•\\t CBT is evidence based. CBT has been well tested in research studies and has been proven to \\nbe effective in treating depression. \\n•\\t CBT is structured. You should expect to have a good idea of where you’re going and how \\nto get there.  So, we will set clear goals to create a roadmap that will help us find the best \\nway to improve your symptoms. During each session we will set an agenda for what we want \\nto discuss, we will discuss last week’s practice assignment, discuss agenda items, and then \\nassign new homework. \\n•\\t CBT is psychoeducational. The entire program is skill based and involves you enhancing \\nyour skill set.  You will learn different “tools” to help cope with your current problems that \\nyou will be able to take with you when treatment is over. \\n•\\t CBT is goal oriented. We will work together to identify and achieve specific treatment goals. \\nWe will track your progress on your goals and problem solve ways to reach them.'),\n",
       " Document(id='b7b6717f-9309-46ff-a317-53b80a590826', metadata={'creator': 'Adobe InDesign 14.0 (Macintosh)', 'subject': 'Cognitive Behavioral Therapy Strategies', 'total_pages': 103, 'title': 'Cognitive Behavioral Therapy Strategies', 'creationdate': '2019-09-26T14:54:21-05:00', 'author': 'South Central Mental Illness Research Education and Clinical Center', 'page_label': '7', 'trapped': '/False', 'nccl_standard': 'HHS (2018 Regulations);', 'page': 6, 'nccl_app': 'PDF', 'moddate': '2022-11-22T15:09:46-06:00', 'keywords': 'South Central Mental Illness Research Education and Clinical Center', 'source': 'PDF_resources/cbt-strategies-guide.pdf', 'nccl_status': 'Passed', 'producer': 'Adobe PDF Library 15.0'}, page_content='your new skills to use. \\n•\\t CBT focuses on the here and now. Treatment emphasizes how depression is maintained in \\nyour present life. \\n•\\t CBT is collaborative. Although the therapist is the expert on CBT, you are the expert on \\nyourself.  We will work together to tailor your treatment to your needs. \\n7'),\n",
       " Document(id='900cc91b-5103-4563-a17e-30945b18f86e', metadata={'producer': 'Adobe PDF Library 15.0', 'creationdate': '2019-09-26T14:54:21-05:00', 'moddate': '2022-11-22T15:09:46-06:00', 'trapped': '/False', 'nccl_app': 'PDF', 'subject': 'Cognitive Behavioral Therapy Strategies', 'page_label': '3', 'title': 'Cognitive Behavioral Therapy Strategies', 'nccl_standard': 'HHS (2018 Regulations);', 'page': 2, 'creator': 'Adobe InDesign 14.0 (Macintosh)', 'keywords': 'South Central Mental Illness Research Education and Clinical Center', 'total_pages': 103, 'author': 'South Central Mental Illness Research Education and Clinical Center', 'source': 'PDF_resources/cbt-strategies-guide.pdf', 'nccl_status': 'Passed'}, page_content='Cognitive Behavioral Model.................................................................................................................................10\\n \\nPhases of CBT............................................................................................................................................................ 11\\n \\nSteps of CBT.............................................................................................................................................................. 12\\n \\nSession Format......................................................................................................................................................... 13\\n \\nAssessment, Case Conceputalization, and Treatment Planning.................................................................... 15\\n \\nPatient Health Questionnaire (PHQ-9)............................................................................................................16')]"
      ]
     },
     "execution_count": 8,
     "metadata": {},
     "output_type": "execute_result"
    }
   ],
   "source": [
    "vectordb.similarity_search(\"CBT is based on the idea that our thoughts, feelings, and behaviors are all connected\")"
   ]
  },
  {
   "cell_type": "code",
   "execution_count": 9,
   "id": "a484d7a3",
   "metadata": {},
   "outputs": [],
   "source": [
    "from langchain.chains.combine_documents import create_stuff_documents_chain\n",
    "from langchain.chains import create_retrieval_chain\n",
    "from langchain_groq import ChatGroq\n",
    "load_dotenv()\n",
    "\n",
    "os.environ[\"GROQ_API_KEY\"]=os.getenv(\"GROQ_API_KEY\")\n",
    "\n",
    "llm = ChatGroq(model=\"llama3-8b-8192\")"
   ]
  },
  {
   "cell_type": "code",
   "execution_count": 10,
   "id": "37ea57d5",
   "metadata": {},
   "outputs": [],
   "source": [
    "from langchain_core.prompts import ChatPromptTemplate\n",
    "prompt = ChatPromptTemplate.from_template(\"\"\"\n",
    "You are a helpful and empathetic mental health therapeutic assistant. Use the following context from therapeutic documents to answer the user's question.\n",
    "If the answer is not in the context, say so clearly.\n",
    "\n",
    "Context:\n",
    "{context}\n",
    "\n",
    "Question:\n",
    "{input}\n",
    "\n",
    "Answer as if you're speaking kindly to someone seeking support:\n",
    "\"\"\"\n",
    ")\n"
   ]
  },
  {
   "cell_type": "code",
   "execution_count": 11,
   "id": "810ee0d4",
   "metadata": {},
   "outputs": [],
   "source": [
    "document_chain = create_stuff_documents_chain(llm,prompt)\n",
    "retriever = vectordb.as_retriever()\n",
    "retrieval_chain = create_retrieval_chain(retriever,document_chain)"
   ]
  },
  {
   "cell_type": "code",
   "execution_count": 12,
   "id": "7ad7e8bd",
   "metadata": {},
   "outputs": [
    {
     "name": "stdout",
     "output_type": "stream",
     "text": [
      "Hello there! I'm so glad you reached out for support. It takes a lot of courage to admit when we need help, and I'm here to listen and offer guidance.\n",
      "\n",
      "It seems like you're working on building your confidence and self-esteem. That's amazing! It's great that you're acknowledging your strengths and focusing on being a good spouse, parent, friend, and person.\n",
      "\n",
      "Can you tell me what's been going on that's making you feel like you need to work on these affirmations? Is there something specific that's been challenging you lately? I'm here to listen and offer support.\n"
     ]
    }
   ],
   "source": [
    "reply=retrieval_chain.invoke({\"input\":\"Hey\"})\n",
    "print(reply['answer'])"
   ]
  },
  {
   "cell_type": "code",
   "execution_count": 13,
   "id": "27f541b5",
   "metadata": {},
   "outputs": [
    {
     "name": "stdout",
     "output_type": "stream",
     "text": [
      "{'input': 'Hey', 'context': [Document(id='fff5e65f-79c0-43e2-bfea-d19121cfa972', metadata={'nccl_standard': 'HHS (2018 Regulations);', 'creator': 'Adobe InDesign 14.0 (Macintosh)', 'moddate': '2022-11-22T15:09:46-06:00', 'subject': 'Cognitive Behavioral Therapy Strategies', 'keywords': 'South Central Mental Illness Research Education and Clinical Center', 'title': 'Cognitive Behavioral Therapy Strategies', 'producer': 'Adobe PDF Library 15.0', 'page_label': '52', 'total_pages': 103, 'trapped': '/False', 'source': 'PDF_resources/cbt-strategies-guide.pdf', 'nccl_status': 'Passed', 'page': 51, 'nccl_app': 'PDF', 'creationdate': '2019-09-26T14:54:21-05:00', 'author': 'South Central Mental Illness Research Education and Clinical Center'}, page_content='52'), Document(id='c74b7659-ff54-4955-b545-81eb24065624', metadata={'author': 'South Central Mental Illness Research Education and Clinical Center', 'page': 26, 'nccl_status': 'Passed', 'trapped': '/False', 'creationdate': '2019-09-26T14:54:21-05:00', 'page_label': '27', 'subject': 'Cognitive Behavioral Therapy Strategies', 'source': 'PDF_resources/cbt-strategies-guide.pdf', 'creator': 'Adobe InDesign 14.0 (Macintosh)', 'nccl_standard': 'HHS (2018 Regulations);', 'moddate': '2022-11-22T15:09:46-06:00', 'total_pages': 103, 'keywords': 'South Central Mental Illness Research Education and Clinical Center', 'nccl_app': 'PDF', 'title': 'Cognitive Behavioral Therapy Strategies', 'producer': 'Adobe PDF Library 15.0'}, page_content='GOAL SETTING\\n \\n27'), Document(id='9a01f7d5-7d3e-4a6a-b71b-f784f38cc5c1', metadata={'producer': 'Adobe PDF Library 15.0', 'trapped': '/False', 'subject': 'Cognitive Behavioral Therapy Strategies', 'page': 89, 'creationdate': '2019-09-26T14:54:21-05:00', 'nccl_standard': 'HHS (2018 Regulations);', 'title': 'Cognitive Behavioral Therapy Strategies', 'source': 'PDF_resources/cbt-strategies-guide.pdf', 'moddate': '2022-11-22T15:09:46-06:00', 'creator': 'Adobe InDesign 14.0 (Macintosh)', 'nccl_app': 'PDF', 'page_label': '90', 'keywords': 'South Central Mental Illness Research Education and Clinical Center', 'total_pages': 103, 'author': 'South Central Mental Illness Research Education and Clinical Center', 'nccl_status': 'Passed'}, page_content='___ I can learn from my mistakes\\n       and be a better person. \\n___ I’m a good spouse (and/or parent, child,\\n       friend, lover). \\n___ Everything will work out all right. \\n___ I am strong. \\n___ I can figure things out. \\n___ I’m friendly. \\n___ I can handle stress. \\n___ The tougher the problem,\\n        the tougher I am. \\n___ I am lovable. \\n___ I can succeed. \\n___ I can take care of myself. \\nAdapted from Wright JH, Wright AS, Beck AT (2004). Good days ahead: The multimedia program for Cognitive Therapy. \\nLouisville, KY, Mindstreet. \\n90'), Document(id='1c679a34-c072-465c-981a-2abfd81bebbd', metadata={'moddate': '2022-11-22T15:09:46-06:00', 'page_label': '81', 'nccl_app': 'PDF', 'keywords': 'South Central Mental Illness Research Education and Clinical Center', 'title': 'Cognitive Behavioral Therapy Strategies', 'author': 'South Central Mental Illness Research Education and Clinical Center', 'source': 'PDF_resources/cbt-strategies-guide.pdf', 'trapped': '/False', 'page': 80, 'creator': 'Adobe InDesign 14.0 (Macintosh)', 'producer': 'Adobe PDF Library 15.0', 'total_pages': 103, 'creationdate': '2019-09-26T14:54:21-05:00', 'nccl_standard': 'HHS (2018 Regulations);', 'subject': 'Cognitive Behavioral Therapy Strategies', 'nccl_status': 'Passed'}, page_content='Thought Thinking Trap \\n81')], 'answer': \"Hello there! I'm so glad you reached out for support. It takes a lot of courage to admit when we need help, and I'm here to listen and offer guidance.\\n\\nIt seems like you're working on building your confidence and self-esteem. That's amazing! It's great that you're acknowledging your strengths and focusing on being a good spouse, parent, friend, and person.\\n\\nCan you tell me what's been going on that's making you feel like you need to work on these affirmations? Is there something specific that's been challenging you lately? I'm here to listen and offer support.\"}\n"
     ]
    }
   ],
   "source": [
    "print(reply)"
   ]
  },
  {
   "cell_type": "code",
   "execution_count": null,
   "id": "67bde15f",
   "metadata": {},
   "outputs": [],
   "source": []
  },
  {
   "cell_type": "code",
   "execution_count": null,
   "id": "0a859e7a",
   "metadata": {},
   "outputs": [],
   "source": []
  }
 ],
 "metadata": {
  "kernelspec": {
   "display_name": "Python 3",
   "language": "python",
   "name": "python3"
  },
  "language_info": {
   "codemirror_mode": {
    "name": "ipython",
    "version": 3
   },
   "file_extension": ".py",
   "mimetype": "text/x-python",
   "name": "python",
   "nbconvert_exporter": "python",
   "pygments_lexer": "ipython3",
   "version": "3.13.2"
  }
 },
 "nbformat": 4,
 "nbformat_minor": 5
}
